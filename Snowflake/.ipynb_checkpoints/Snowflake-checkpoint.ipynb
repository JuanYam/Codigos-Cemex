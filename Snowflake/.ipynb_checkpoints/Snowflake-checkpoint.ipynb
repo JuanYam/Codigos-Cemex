{
 "cells": [
  {
   "cell_type": "code",
   "execution_count": 2,
   "id": "a97b5aad",
   "metadata": {},
   "outputs": [],
   "source": [
    "import snowflake.connector\n",
    "from snowflake.connector.pandas_tools import write_pandas\n",
    "import pandas as pd\n",
    "import numpy as np"
   ]
  },
  {
   "cell_type": "code",
   "execution_count": 12,
   "id": "401faedd",
   "metadata": {},
   "outputs": [
    {
     "name": "stdout",
     "output_type": "stream",
     "text": [
      "Initiating login request with your identity provider. A browser window should have opened for you to complete the login. If you can't see it, check existing browser windows, or your OS settings. Press CTRL+C to abort and try again...\n"
     ]
    }
   ],
   "source": [
    "ctx = snowflake.connector.connect(user='juan.yam@ext.cemex.com',\n",
    "                                     account='hg45590', \n",
    "                                     region = 'East-US-2.azure',\n",
    "                                     warehouse='PRD_LND_MRP_SAP', \n",
    "                                     database='PRD_TDS_MX_PLANOPER_CONCRETO',       \n",
    "                                     schema ='EXOP',\n",
    "                                     authenticator=\"externalbrowser\",\n",
    "                                     autocommit=True)   "
   ]
  },
  {
   "cell_type": "code",
   "execution_count": 19,
   "id": "a5aec8c9",
   "metadata": {},
   "outputs": [
    {
     "data": {
      "text/plain": [
       "<snowflake.connector.cursor.SnowflakeCursor at 0x1cae95d57c0>"
      ]
     },
     "execution_count": 19,
     "metadata": {},
     "output_type": "execute_result"
    }
   ],
   "source": [
    "cs = ctx.cursor()\n",
    "cs.execute(\"DROP TABLE IK17\" )\n",
    "cs.close()"
   ]
  },
  {
   "cell_type": "code",
   "execution_count": null,
   "id": "74f4fac6",
   "metadata": {},
   "outputs": [],
   "source": [
    "cs.execute('CREATE TABLE \"IK172\" (\"Linea_seleccionada\" text, \"Documento_medicion\" text,\t\"Punto_de_medida\" text, \"Fecha\" text, \"Hora_medicion\" text,\t \"ValMed_Val_total_cont\" text, \"UnidadCaracteristica\" text,\t \"Creado_por\" text,\t \"Posicion_de_medida\" text,\t\"Diferencia_val_cont\" text,\t\"Equipo\" text,\t\"Texto1\" text,\"Texto2\" text)')\n"
   ]
  },
  {
   "cell_type": "code",
   "execution_count": null,
   "id": "8907fdb9",
   "metadata": {},
   "outputs": [],
   "source": []
  },
  {
   "cell_type": "code",
   "execution_count": null,
   "id": "53c0882c",
   "metadata": {},
   "outputs": [],
   "source": []
  },
  {
   "cell_type": "code",
   "execution_count": null,
   "id": "893c347c",
   "metadata": {},
   "outputs": [],
   "source": []
  },
  {
   "cell_type": "code",
   "execution_count": null,
   "id": "e71f5476",
   "metadata": {},
   "outputs": [],
   "source": []
  },
  {
   "cell_type": "code",
   "execution_count": null,
   "id": "dca9958a",
   "metadata": {},
   "outputs": [],
   "source": []
  },
  {
   "cell_type": "code",
   "execution_count": 3,
   "id": "8417ee25",
   "metadata": {},
   "outputs": [],
   "source": []
  },
  {
   "cell_type": "code",
   "execution_count": 26,
   "id": "3ca67330",
   "metadata": {},
   "outputs": [],
   "source": []
  },
  {
   "cell_type": "code",
   "execution_count": 7,
   "id": "e1c16f43",
   "metadata": {},
   "outputs": [],
   "source": []
  },
  {
   "cell_type": "markdown",
   "id": "319b4903",
   "metadata": {},
   "source": [
    "# Procesamiento de los datos de las bases"
   ]
  },
  {
   "cell_type": "code",
   "execution_count": 119,
   "id": "0340f0eb",
   "metadata": {},
   "outputs": [],
   "source": [
    "# FUNCIONES\n",
    "\n",
    "def Columnames(database, namebase):\n",
    "    deletecol = 0\n",
    "    deletecol = [lista for lista in a if \"Unnamed\" in lista]\n",
    "    if(deletecol == 0):\n",
    "        database = database.drop(columns = deletecol)\n",
    "    \n",
    "    database = database.loc[0:9,:]\n",
    "    new_names = []\n",
    "    for i in database.columns.values:\n",
    "        result = i.replace(' ','_')\n",
    "        result = result + namebase\n",
    "        new_names.append(result)\n",
    "    database.columns = new_names\n",
    "    return database"
   ]
  },
  {
   "cell_type": "code",
   "execution_count": 112,
   "id": "47c30ce1",
   "metadata": {},
   "outputs": [],
   "source": [
    "import warnings\n",
    "warnings.filterwarnings('ignore')\n",
    "warnings.warn('DelftStack')\n",
    "warnings.warn('Do not show this message')"
   ]
  },
  {
   "cell_type": "code",
   "execution_count": 4,
   "id": "c9895542",
   "metadata": {},
   "outputs": [],
   "source": [
    "df = pd.read_excel(\"DELIV.xlsx\", sheet_name='Sheet1')\n",
    "df2 = pd.read_excel(\"DSERV.xlsx\", sheet_name='Sheet1')\n",
    "df3 = pd.read_excel(\"EMP.xlsx\", sheet_name='Sheet1')\n",
    "df4 = pd.read_excel(\"CALL.xlsx\", sheet_name='Sheet1')"
   ]
  },
  {
   "cell_type": "code",
   "execution_count": 120,
   "id": "140d3617",
   "metadata": {},
   "outputs": [],
   "source": [
    "DELIV = df\n",
    "DSERV = df2\n",
    "EMP = df3\n",
    "CALL = df4"
   ]
  },
  {
   "cell_type": "code",
   "execution_count": 121,
   "id": "d50b9d68",
   "metadata": {},
   "outputs": [],
   "source": [
    "DELIV = Columnames(DELIV, \"_DELIV\")\n",
    "DSERV = Columnames(DSERV, \"_DSERV\")\n",
    "EMP = Columnames(EMP, \"_EMP\")\n",
    "CALL = Columnames(CALL, \"_CALL\")"
   ]
  },
  {
   "cell_type": "code",
   "execution_count": 122,
   "id": "862950f0",
   "metadata": {},
   "outputs": [],
   "source": [
    "DSERV = DSERV.drop([\"Motivo_de_Pedido_DSERV\",\"Texto_breve_de_material_DSERV\",\"Producto_Comercial_DSERV\",\"Frente_DSERV\",\"Identif._externa_nota_de_entrega_DSERV\",\"Cantidad_entrada_de_mercancías_DSERV\",\"Nombre_Holding_DSERV\",\"Nombre_Jerarquía_DSERV\",\"Repr._Ventas_DSERV\",\"Factura_DSERV\",\"Posición_DSERV\",\"Creado_el_DSERV\",\"Hora_DSERV\"], axis=1)"
   ]
  },
  {
   "cell_type": "code",
   "execution_count": 123,
   "id": "597cb320",
   "metadata": {},
   "outputs": [],
   "source": [
    "CALL = CALL.drop(CALL.columns[[1,2,3,11,12,28,29,30,32,33,34,35,36,37,38,39,45,46,47,48,50,51,53,57,58,59,60,69,70,71,73,74,75,76,77,78,79,80,81,82]], axis = 1)"
   ]
  },
  {
   "cell_type": "code",
   "execution_count": 125,
   "id": "e8be10b9",
   "metadata": {},
   "outputs": [],
   "source": [
    "EMP = EMP.drop(EMP.columns[[1,3,4,10,13,15,16,17]], axis = 1)"
   ]
  },
  {
   "cell_type": "code",
   "execution_count": 126,
   "id": "56daefef",
   "metadata": {},
   "outputs": [
    {
     "data": {
      "text/plain": [
       "Index(['Empleado_EMP', 'Nombre_Empleado_EMP', 'Fecha_de_Carga_EMP',\n",
       "       'Hora_de_Carga_EMP', 'Hora_de_Entrada_EMP',\n",
       "       'Hora_de_Fin_de_Jornada_EMP', 'Descr._Punto_Entrega_EMP',\n",
       "       'Tiempo_de_Viaje_EMP', 'Entrega_EMP', 'Pedido_EMP', 'Estatus_EMP',\n",
       "       'Turno_EMP'],\n",
       "      dtype='object')"
      ]
     },
     "execution_count": 126,
     "metadata": {},
     "output_type": "execute_result"
    }
   ],
   "source": [
    "EMP.columns"
   ]
  },
  {
   "cell_type": "code",
   "execution_count": null,
   "id": "f43d1112",
   "metadata": {},
   "outputs": [],
   "source": []
  },
  {
   "cell_type": "code",
   "execution_count": null,
   "id": "4b84182f",
   "metadata": {},
   "outputs": [],
   "source": []
  },
  {
   "cell_type": "code",
   "execution_count": null,
   "id": "9d78e68e",
   "metadata": {},
   "outputs": [],
   "source": []
  },
  {
   "cell_type": "code",
   "execution_count": null,
   "id": "c133aa2b",
   "metadata": {},
   "outputs": [],
   "source": []
  },
  {
   "cell_type": "code",
   "execution_count": 14,
   "id": "b0490977",
   "metadata": {},
   "outputs": [],
   "source": [
    "SERV['Fecha_inicio_real_SERV'] = SERV['Fecha_inicio_real_SERV'].astype(str) + \" \" + SERV['Hora_inicio_real_SERV'].astype(str)\n",
    "SERV['In-Plant_Hour_of_Delivery_SERV'] = SERV['In-Plant_Hour_of_Delivery_SERV'].astype(str) + \" \" + SERV['In-Plant_Hour_of_Delivery.1_SERV'].astype(str)\n",
    "SERV['In_Site_Date_SERV'] = SERV['In_Site_Date_SERV'].astype(str) + \" \" + SERV['In_Site_Hr_SERV'].astype(str)\n",
    "SERV['Unld_Initial_Date_SERV'] = SERV['Unld_Initial_Date_SERV'].astype(str) + \" \" + SERV['Unld_Initial_Hr_SERV'].astype(str)\n",
    "SERV['Unld_Final_Date_SERV'] = SERV['Unld_Final_Date_SERV'].astype(str) + \" \" + SERV['Unld_Final_Hr_SERV'].astype(str)\n",
    "SERV['Date_of_Assigned_Delivery_SERV'] = SERV['Date_of_Assigned_Delivery_SERV'].astype(str) + \" \" + SERV['Hour_of_Assigned_Delivery_SERV'].astype(str)\n",
    "SERV['Fecha_de_entrega.1_SERV'] = SERV['Fecha_de_entrega.1_SERV'].astype(str) + \" \" + SERV['Hora_de_entrega_SERV'].astype(str)\n",
    "SERV['Fecha_real_de_fin_de_la_orden_SERV'] = SERV['Fecha_real_de_fin_de_la_orden_SERV'].astype(str) + \" \" + SERV['Fin_real_(hora)_SERV'].astype(str)\n",
    "SERV['Fecha_TJST_SERV'] = SERV['Fecha_TJST_SERV'].astype(str) + \" \" + SERV['Hora_TJST_SERV'].astype(str)\n",
    "SERV['Fecha_TOPL_SERV'] = SERV['Fecha_TOPL_SERV'].astype(str) + \" \" + SERV['Hora_TOPL_SERV'].astype(str)\n",
    "SERV['Fecha_de_carga_SERV'] = SERV['Fecha_de_carga_SERV'].astype(str) + \" \" + SERV['Hora_de_carga_SERV'].astype(str)"
   ]
  },
  {
   "cell_type": "code",
   "execution_count": 15,
   "id": "57e2580f",
   "metadata": {},
   "outputs": [],
   "source": [
    "SERV = SERV.drop(['Hora_inicio_real_SERV','In-Plant_Hour_of_Delivery.1_SERV','In_Site_Hr_SERV','Unld_Initial_Hr_SERV','Unld_Final_Hr_SERV','Hour_of_Assigned_Delivery_SERV','Hora_de_entrega_SERV','Fin_real_(hora)_SERV','Hora_TJST_SERV','Hora_TOPL_SERV','Hora_de_carga_SERV'], axis=1)"
   ]
  },
  {
   "cell_type": "code",
   "execution_count": null,
   "id": "ae6d7cdf",
   "metadata": {},
   "outputs": [],
   "source": []
  },
  {
   "cell_type": "code",
   "execution_count": null,
   "id": "91f5ecff",
   "metadata": {},
   "outputs": [],
   "source": []
  },
  {
   "cell_type": "code",
   "execution_count": null,
   "id": "156117db",
   "metadata": {},
   "outputs": [],
   "source": []
  },
  {
   "cell_type": "code",
   "execution_count": null,
   "id": "2d592d09",
   "metadata": {},
   "outputs": [],
   "source": []
  },
  {
   "cell_type": "code",
   "execution_count": null,
   "id": "bb6518b9",
   "metadata": {},
   "outputs": [],
   "source": []
  }
 ],
 "metadata": {
  "kernelspec": {
   "display_name": "Python 3",
   "language": "python",
   "name": "python3"
  },
  "language_info": {
   "codemirror_mode": {
    "name": "ipython",
    "version": 3
   },
   "file_extension": ".py",
   "mimetype": "text/x-python",
   "name": "python",
   "nbconvert_exporter": "python",
   "pygments_lexer": "ipython3",
   "version": "3.8.8"
  }
 },
 "nbformat": 4,
 "nbformat_minor": 5
}
