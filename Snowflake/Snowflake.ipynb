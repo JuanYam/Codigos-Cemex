{
 "cells": [
  {
   "cell_type": "code",
   "execution_count": 2,
   "id": "a97b5aad",
   "metadata": {},
   "outputs": [],
   "source": [
    "import snowflake.connector\n",
    "from snowflake.connector.pandas_tools import write_pandas\n",
    "import pandas as pd\n",
    "import numpy as np"
   ]
  },
  {
   "cell_type": "code",
   "execution_count": 12,
   "id": "401faedd",
   "metadata": {},
   "outputs": [
    {
     "name": "stdout",
     "output_type": "stream",
     "text": [
      "Initiating login request with your identity provider. A browser window should have opened for you to complete the login. If you can't see it, check existing browser windows, or your OS settings. Press CTRL+C to abort and try again...\n"
     ]
    }
   ],
   "source": [
    "ctx = snowflake.connector.connect(user='juan.yam@ext.cemex.com',\n",
    "                                     account='hg45590', \n",
    "                                     region = 'East-US-2.azure',\n",
    "                                     warehouse='PRD_LND_MRP_SAP', \n",
    "                                     database='PRD_TDS_MX_PLANOPER_CONCRETO',       \n",
    "                                     schema ='EXOP',\n",
    "                                     authenticator=\"externalbrowser\",\n",
    "                                     autocommit=True)   "
   ]
  },
  {
   "cell_type": "code",
   "execution_count": 19,
   "id": "a5aec8c9",
   "metadata": {},
   "outputs": [
    {
     "data": {
      "text/plain": [
       "<snowflake.connector.cursor.SnowflakeCursor at 0x1cae95d57c0>"
      ]
     },
     "execution_count": 19,
     "metadata": {},
     "output_type": "execute_result"
    }
   ],
   "source": [
    "cs = ctx.cursor()\n",
    "cs.execute(\"DROP TABLE IK17\" )\n",
    "cs.close()"
   ]
  },
  {
   "cell_type": "code",
   "execution_count": null,
   "id": "74f4fac6",
   "metadata": {},
   "outputs": [],
   "source": [
    "cs.execute('CREATE TABLE \"IK172\" (\"Linea_seleccionada\" text, \"Documento_medicion\" text,\t\"Punto_de_medida\" text, \"Fecha\" text, \"Hora_medicion\" text,\t \"ValMed_Val_total_cont\" text, \"UnidadCaracteristica\" text,\t \"Creado_por\" text,\t \"Posicion_de_medida\" text,\t\"Diferencia_val_cont\" text,\t\"Equipo\" text,\t\"Texto1\" text,\"Texto2\" text)')\n"
   ]
  },
  {
   "cell_type": "code",
   "execution_count": null,
   "id": "8907fdb9",
   "metadata": {},
   "outputs": [],
   "source": []
  },
  {
   "cell_type": "code",
   "execution_count": null,
   "id": "53c0882c",
   "metadata": {},
   "outputs": [],
   "source": []
  },
  {
   "cell_type": "code",
   "execution_count": null,
   "id": "893c347c",
   "metadata": {},
   "outputs": [],
   "source": []
  },
  {
   "cell_type": "code",
   "execution_count": null,
   "id": "e71f5476",
   "metadata": {},
   "outputs": [],
   "source": []
  },
  {
   "cell_type": "code",
   "execution_count": null,
   "id": "dca9958a",
   "metadata": {},
   "outputs": [],
   "source": []
  },
  {
   "cell_type": "code",
   "execution_count": 3,
   "id": "8417ee25",
   "metadata": {},
   "outputs": [],
   "source": []
  },
  {
   "cell_type": "code",
   "execution_count": null,
   "id": "3f7a5a77",
   "metadata": {},
   "outputs": [],
   "source": []
  },
  {
   "cell_type": "markdown",
   "id": "319b4903",
   "metadata": {},
   "source": [
    "# Procesamiento de los datos de las bases"
   ]
  },
  {
   "cell_type": "code",
   "execution_count": 266,
   "id": "61cc1dc7",
   "metadata": {},
   "outputs": [],
   "source": [
    "# FUNCIONES\n",
    "def Columnames(database, namebase):\n",
    "    deletecol = 0\n",
    "    a = 0\n",
    "    a = database.columns\n",
    "    a = list(a)\n",
    "    deletecol = [lista for lista in a if \"Unnamed\" in lista]\n",
    "    if(deletecol != 0):\n",
    "        database = database.drop(columns = deletecol)\n",
    "    \n",
    "    database = database.loc[0:9,:]\n",
    "    database= database.dropna(how='all')\n",
    "    new_names = []\n",
    "    for i in database.columns.values:\n",
    "        result = i.replace(' ','_')\n",
    "        result = result + namebase\n",
    "        new_names.append(result)\n",
    "    database.columns = new_names\n",
    "    return database"
   ]
  },
  {
   "cell_type": "markdown",
   "id": "eae88e06",
   "metadata": {},
   "source": [
    "import warnings\n",
    "warnings.filterwarnings('ignore')\n",
    "warnings.warn('DelftStack')\n",
    "warnings.warn('Do not show this message')"
   ]
  },
  {
   "cell_type": "code",
   "execution_count": 74,
   "id": "c9895542",
   "metadata": {},
   "outputs": [],
   "source": [
    "df = pd.read_excel(\"DELIV.xlsx\", sheet_name='Sheet1')\n",
    "df2 = pd.read_excel(\"DSERV.xlsx\", sheet_name='Sheet1')\n",
    "df3 = pd.read_excel(\"EMP.xlsx\", sheet_name='Sheet1')\n",
    "df4 = pd.read_excel(\"CALL.xlsx\", sheet_name='Sheet1')"
   ]
  },
  {
   "cell_type": "code",
   "execution_count": 267,
   "id": "51394b55",
   "metadata": {},
   "outputs": [],
   "source": [
    "DELIV = df\n",
    "DSERV = df2\n",
    "EMP = df3\n",
    "CALL = df4"
   ]
  },
  {
   "cell_type": "code",
   "execution_count": 268,
   "id": "7d0e6236",
   "metadata": {},
   "outputs": [],
   "source": [
    "DELIV = Columnames(DELIV, \"_DELIV\")\n",
    "DSERV = Columnames(DSERV, \"_DSERV\")\n",
    "EMP = Columnames(EMP, \"_EMP\")\n",
    "CALL = Columnames(CALL, \"_CALL\")"
   ]
  },
  {
   "cell_type": "code",
   "execution_count": 269,
   "id": "3d907872",
   "metadata": {},
   "outputs": [],
   "source": [
    "EMP = EMP.drop(EMP.columns[[0,2,3,9,14,15,16]], axis = 1)\n",
    "CALL = CALL.drop(CALL.columns[[0,1,10,11,27,28,29,31,32,33,34,35,36,37,38,44,45,46,47,49,50,52,56,57,58,59,68,69,70,72,73,74,75,76,77,78,79,80,81,83]], axis = 1)\n",
    "DSERV = DSERV.drop([\"Motivo_de_Pedido_DSERV\",\"Texto_breve_de_material_DSERV\",\"Producto_Comercial_DSERV\",\"Frente_DSERV\",\"Identif._externa_nota_de_entrega_DSERV\",\"Cantidad_entrada_de_mercancías_DSERV\",\"Nombre_Holding_DSERV\",\"Nombre_Jerarquía_DSERV\",\"Repr._Ventas_DSERV\",\"Factura_DSERV\",\"Posición_DSERV\",\"Creado_el_DSERV\",\"Hora_DSERV\"], axis=1)"
   ]
  },
  {
   "cell_type": "code",
   "execution_count": 270,
   "id": "15477254",
   "metadata": {},
   "outputs": [],
   "source": [
    "# Separar los dartos apartir de caracteres \"-\"\n",
    "pedido = CALL[\"Pedido._CALL\"].str.split('-', expand=True)\n",
    "CALL[\"Pedido._CALL\"] = pedido[0]"
   ]
  },
  {
   "cell_type": "code",
   "execution_count": 271,
   "id": "fbe29456",
   "metadata": {},
   "outputs": [],
   "source": [
    "Data = DELIV.merge(DSERV.rename({'Entrega_DELIV': 'Entrega_DSERV'}, axis=1),\n",
    "               left_on='Entrega_DELIV', right_on='Entrega_DSERV', how='left')"
   ]
  },
  {
   "cell_type": "code",
   "execution_count": 273,
   "id": "3d0a96cc",
   "metadata": {},
   "outputs": [],
   "source": [
    "CALL[\"Pedido._CALL\"] = CALL[\"Pedido._CALL\"].astype('float64')"
   ]
  },
  {
   "cell_type": "code",
   "execution_count": 274,
   "id": "16b07e66",
   "metadata": {},
   "outputs": [],
   "source": [
    "Data = Data.merge(CALL.rename({'Orden_de_Venta_DSERV': 'Pedido._CALL'}, axis=1),\n",
    "               left_on='Orden_de_Venta_DSERV', right_on='Pedido._CALL', how='left')"
   ]
  },
  {
   "cell_type": "code",
   "execution_count": 275,
   "id": "359343b7",
   "metadata": {},
   "outputs": [],
   "source": [
    "Data = Data.merge(EMP.rename({'Entrega_DELIV': 'Entrega_EMP'}, axis=1),\n",
    "               left_on='Entrega_DELIV', right_on='Entrega_EMP', how='left')"
   ]
  },
  {
   "cell_type": "code",
   "execution_count": 276,
   "id": "73f5af52",
   "metadata": {},
   "outputs": [],
   "source": [
    "Data = Data.drop([\"Pedido._CALL\",\"Entrega_EMP\"], axis=1)"
   ]
  },
  {
   "cell_type": "code",
   "execution_count": null,
   "id": "7864d135",
   "metadata": {},
   "outputs": [],
   "source": []
  },
  {
   "cell_type": "code",
   "execution_count": 257,
   "id": "2d413f86",
   "metadata": {},
   "outputs": [
    {
     "data": {
      "text/plain": [
       "10"
      ]
     },
     "execution_count": 257,
     "metadata": {},
     "output_type": "execute_result"
    }
   ],
   "source": [
    "len(DSERV['Entrega_DSERV'].unique())"
   ]
  },
  {
   "cell_type": "code",
   "execution_count": 258,
   "id": "dafd2f8b",
   "metadata": {},
   "outputs": [
    {
     "data": {
      "text/plain": [
       "10"
      ]
     },
     "execution_count": 258,
     "metadata": {},
     "output_type": "execute_result"
    }
   ],
   "source": [
    "len(DELIV['Entrega_DELIV'].unique())"
   ]
  },
  {
   "cell_type": "code",
   "execution_count": 277,
   "id": "3bd133f9",
   "metadata": {},
   "outputs": [
    {
     "data": {
      "text/plain": [
       "10"
      ]
     },
     "execution_count": 277,
     "metadata": {},
     "output_type": "execute_result"
    }
   ],
   "source": [
    "len(Data)"
   ]
  },
  {
   "cell_type": "code",
   "execution_count": null,
   "id": "71bc4a7b",
   "metadata": {},
   "outputs": [],
   "source": []
  },
  {
   "cell_type": "code",
   "execution_count": null,
   "id": "5a82915b",
   "metadata": {},
   "outputs": [],
   "source": []
  },
  {
   "cell_type": "code",
   "execution_count": 259,
   "id": "38f9dfd9",
   "metadata": {},
   "outputs": [],
   "source": [
    "DSERV = DSERV.rename(columns={'Entrega_DSERV':'Entrega_DELIV'})\n"
   ]
  },
  {
   "cell_type": "code",
   "execution_count": 260,
   "id": "4bf68301",
   "metadata": {},
   "outputs": [],
   "source": [
    "a = DELIV.merge(DSERV, on='Entrega_DELIV', how='left')"
   ]
  },
  {
   "cell_type": "code",
   "execution_count": 245,
   "id": "c5a7f443",
   "metadata": {},
   "outputs": [],
   "source": [
    "a = pd.merge(DELIV,DSERV, how='left')"
   ]
  },
  {
   "cell_type": "code",
   "execution_count": 279,
   "id": "b6b004ed",
   "metadata": {},
   "outputs": [
    {
     "data": {
      "text/plain": [
       "Index(['Centro_DELIV', 'Conductor_DELIV', 'Cantidad_entrega_DELIV',\n",
       "       'Fecha_inicio_real_DELIV', 'Hora_inicio_real_DELIV',\n",
       "       'Nombre_de_la_Obra_DELIV', 'Documento_de_Venta_DELIV',\n",
       "       'Placa_Vehículo_1_DELIV', 'Carga_DELIV',\n",
       "       'In-Plant_Hour_of_Delivery_DELIV',\n",
       "       ...\n",
       "       'Fecha_de_Carga_EMP', 'Hora_de_Carga_EMP', 'Hora_de_Entrada_EMP',\n",
       "       'Hora_de_Fin_de_Jornada_EMP', 'Distancia_EMP', 'Tiempo_de_Viaje_EMP',\n",
       "       'Volumen_EMP', 'Centro_EMP', 'Estatus_EMP', 'Turno_EMP'],\n",
       "      dtype='object', length=136)"
      ]
     },
     "execution_count": 279,
     "metadata": {},
     "output_type": "execute_result"
    }
   ],
   "source": [
    "Data.columns"
   ]
  },
  {
   "cell_type": "code",
   "execution_count": 280,
   "id": "e4121b98",
   "metadata": {},
   "outputs": [
    {
     "data": {
      "text/html": [
       "<div>\n",
       "<style scoped>\n",
       "    .dataframe tbody tr th:only-of-type {\n",
       "        vertical-align: middle;\n",
       "    }\n",
       "\n",
       "    .dataframe tbody tr th {\n",
       "        vertical-align: top;\n",
       "    }\n",
       "\n",
       "    .dataframe thead th {\n",
       "        text-align: right;\n",
       "    }\n",
       "</style>\n",
       "<table border=\"1\" class=\"dataframe\">\n",
       "  <thead>\n",
       "    <tr style=\"text-align: right;\">\n",
       "      <th></th>\n",
       "      <th>Centro_DELIV</th>\n",
       "      <th>Conductor_DELIV</th>\n",
       "      <th>Cantidad_entrega_DELIV</th>\n",
       "      <th>Fecha_inicio_real_DELIV</th>\n",
       "      <th>Hora_inicio_real_DELIV</th>\n",
       "      <th>Nombre_de_la_Obra_DELIV</th>\n",
       "      <th>Documento_de_Venta_DELIV</th>\n",
       "      <th>Placa_Vehículo_1_DELIV</th>\n",
       "      <th>Carga_DELIV</th>\n",
       "      <th>In-Plant_Hour_of_Delivery_DELIV</th>\n",
       "      <th>...</th>\n",
       "      <th>Nombre_Canal_DSERV</th>\n",
       "      <th>Nombre_Subcanal_DSERV</th>\n",
       "      <th>Nombre_Especialidad_DSERV</th>\n",
       "      <th>Offline_DSERV</th>\n",
       "      <th>Fabricación_en_Línea_DSERV</th>\n",
       "      <th>Elemento_a_Colar_DSERV</th>\n",
       "      <th>Nombre_Vicepresidencia_DSERV</th>\n",
       "      <th>Fecha_de_documento_DSERV</th>\n",
       "      <th>Pedido_cliente_DSERV</th>\n",
       "      <th>Nombre_Vendedor_DSERV</th>\n",
       "    </tr>\n",
       "  </thead>\n",
       "  <tbody>\n",
       "    <tr>\n",
       "      <th>0</th>\n",
       "      <td>D105</td>\n",
       "      <td>159956</td>\n",
       "      <td>6.0</td>\n",
       "      <td>2022-11-30</td>\n",
       "      <td>15:18:42</td>\n",
       "      <td>ANTARA FASE II</td>\n",
       "      <td>8.013570e+09</td>\n",
       "      <td>CR4362</td>\n",
       "      <td>L006</td>\n",
       "      <td>2022-11-30</td>\n",
       "      <td>...</td>\n",
       "      <td>NaN</td>\n",
       "      <td>NaN</td>\n",
       "      <td>NaN</td>\n",
       "      <td>NaN</td>\n",
       "      <td>NaN</td>\n",
       "      <td>NaN</td>\n",
       "      <td>NaN</td>\n",
       "      <td>NaN</td>\n",
       "      <td>NaN</td>\n",
       "      <td>NaN</td>\n",
       "    </tr>\n",
       "    <tr>\n",
       "      <th>1</th>\n",
       "      <td>D678</td>\n",
       "      <td>1724160</td>\n",
       "      <td>7.0</td>\n",
       "      <td>2022-11-30</td>\n",
       "      <td>16:39:41</td>\n",
       "      <td>ANTEPROYECTOS PAVIMENTOS</td>\n",
       "      <td>8.013577e+09</td>\n",
       "      <td>CR4826</td>\n",
       "      <td>L001</td>\n",
       "      <td>NaT</td>\n",
       "      <td>...</td>\n",
       "      <td>NaN</td>\n",
       "      <td>NaN</td>\n",
       "      <td>NaN</td>\n",
       "      <td>NaN</td>\n",
       "      <td>NaN</td>\n",
       "      <td>NaN</td>\n",
       "      <td>NaN</td>\n",
       "      <td>NaN</td>\n",
       "      <td>NaN</td>\n",
       "      <td>NaN</td>\n",
       "    </tr>\n",
       "    <tr>\n",
       "      <th>2</th>\n",
       "      <td>D105</td>\n",
       "      <td>1706888</td>\n",
       "      <td>3.0</td>\n",
       "      <td>2022-11-30</td>\n",
       "      <td>16:54:21</td>\n",
       "      <td>ANTARA FASE II</td>\n",
       "      <td>8.013570e+09</td>\n",
       "      <td>CR4343</td>\n",
       "      <td>L008</td>\n",
       "      <td>2022-11-30</td>\n",
       "      <td>...</td>\n",
       "      <td>NaN</td>\n",
       "      <td>NaN</td>\n",
       "      <td>NaN</td>\n",
       "      <td>NaN</td>\n",
       "      <td>NaN</td>\n",
       "      <td>NaN</td>\n",
       "      <td>NaN</td>\n",
       "      <td>NaN</td>\n",
       "      <td>NaN</td>\n",
       "      <td>NaN</td>\n",
       "    </tr>\n",
       "    <tr>\n",
       "      <th>3</th>\n",
       "      <td>D678</td>\n",
       "      <td>1709505</td>\n",
       "      <td>7.0</td>\n",
       "      <td>2022-11-30</td>\n",
       "      <td>18:00:44</td>\n",
       "      <td>ANTEPROYECTOS PAVIMENTOS</td>\n",
       "      <td>8.013577e+09</td>\n",
       "      <td>CR5156</td>\n",
       "      <td>L002</td>\n",
       "      <td>2022-11-30</td>\n",
       "      <td>...</td>\n",
       "      <td>NaN</td>\n",
       "      <td>NaN</td>\n",
       "      <td>NaN</td>\n",
       "      <td>NaN</td>\n",
       "      <td>NaN</td>\n",
       "      <td>NaN</td>\n",
       "      <td>NaN</td>\n",
       "      <td>NaN</td>\n",
       "      <td>NaN</td>\n",
       "      <td>NaN</td>\n",
       "    </tr>\n",
       "    <tr>\n",
       "      <th>4</th>\n",
       "      <td>D251</td>\n",
       "      <td>1724209</td>\n",
       "      <td>7.0</td>\n",
       "      <td>2022-11-30</td>\n",
       "      <td>23:13:21</td>\n",
       "      <td>PILLM Pisos VESTA PARK</td>\n",
       "      <td>8.013569e+09</td>\n",
       "      <td>CR4458</td>\n",
       "      <td>L022</td>\n",
       "      <td>NaT</td>\n",
       "      <td>...</td>\n",
       "      <td>NaN</td>\n",
       "      <td>NaN</td>\n",
       "      <td>NaN</td>\n",
       "      <td>NaN</td>\n",
       "      <td>NaN</td>\n",
       "      <td>NaN</td>\n",
       "      <td>NaN</td>\n",
       "      <td>NaN</td>\n",
       "      <td>NaN</td>\n",
       "      <td>NaN</td>\n",
       "    </tr>\n",
       "  </tbody>\n",
       "</table>\n",
       "<p>5 rows × 80 columns</p>\n",
       "</div>"
      ],
      "text/plain": [
       "  Centro_DELIV Conductor_DELIV  Cantidad_entrega_DELIV  \\\n",
       "0         D105          159956                     6.0   \n",
       "1         D678         1724160                     7.0   \n",
       "2         D105         1706888                     3.0   \n",
       "3         D678         1709505                     7.0   \n",
       "4         D251         1724209                     7.0   \n",
       "\n",
       "  Fecha_inicio_real_DELIV Hora_inicio_real_DELIV   Nombre_de_la_Obra_DELIV  \\\n",
       "0              2022-11-30               15:18:42            ANTARA FASE II   \n",
       "1              2022-11-30               16:39:41  ANTEPROYECTOS PAVIMENTOS   \n",
       "2              2022-11-30               16:54:21            ANTARA FASE II   \n",
       "3              2022-11-30               18:00:44  ANTEPROYECTOS PAVIMENTOS   \n",
       "4              2022-11-30               23:13:21    PILLM Pisos VESTA PARK   \n",
       "\n",
       "   Documento_de_Venta_DELIV Placa_Vehículo_1_DELIV Carga_DELIV  \\\n",
       "0              8.013570e+09                 CR4362        L006   \n",
       "1              8.013577e+09                 CR4826        L001   \n",
       "2              8.013570e+09                 CR4343        L008   \n",
       "3              8.013577e+09                 CR5156        L002   \n",
       "4              8.013569e+09                 CR4458        L022   \n",
       "\n",
       "  In-Plant_Hour_of_Delivery_DELIV  ... Nombre_Canal_DSERV  \\\n",
       "0                      2022-11-30  ...                NaN   \n",
       "1                             NaT  ...                NaN   \n",
       "2                      2022-11-30  ...                NaN   \n",
       "3                      2022-11-30  ...                NaN   \n",
       "4                             NaT  ...                NaN   \n",
       "\n",
       "  Nombre_Subcanal_DSERV Nombre_Especialidad_DSERV  Offline_DSERV  \\\n",
       "0                   NaN                       NaN            NaN   \n",
       "1                   NaN                       NaN            NaN   \n",
       "2                   NaN                       NaN            NaN   \n",
       "3                   NaN                       NaN            NaN   \n",
       "4                   NaN                       NaN            NaN   \n",
       "\n",
       "  Fabricación_en_Línea_DSERV Elemento_a_Colar_DSERV  \\\n",
       "0                        NaN                    NaN   \n",
       "1                        NaN                    NaN   \n",
       "2                        NaN                    NaN   \n",
       "3                        NaN                    NaN   \n",
       "4                        NaN                    NaN   \n",
       "\n",
       "  Nombre_Vicepresidencia_DSERV Fecha_de_documento_DSERV Pedido_cliente_DSERV  \\\n",
       "0                          NaN                      NaN                  NaN   \n",
       "1                          NaN                      NaN                  NaN   \n",
       "2                          NaN                      NaN                  NaN   \n",
       "3                          NaN                      NaN                  NaN   \n",
       "4                          NaN                      NaN                  NaN   \n",
       "\n",
       "  Nombre_Vendedor_DSERV  \n",
       "0                   NaN  \n",
       "1                   NaN  \n",
       "2                   NaN  \n",
       "3                   NaN  \n",
       "4                   NaN  \n",
       "\n",
       "[5 rows x 80 columns]"
      ]
     },
     "execution_count": 280,
     "metadata": {},
     "output_type": "execute_result"
    }
   ],
   "source": [
    "a.head()"
   ]
  },
  {
   "cell_type": "code",
   "execution_count": 262,
   "id": "ee057a88",
   "metadata": {},
   "outputs": [
    {
     "data": {
      "text/plain": [
       "10"
      ]
     },
     "execution_count": 262,
     "metadata": {},
     "output_type": "execute_result"
    }
   ],
   "source": [
    "len(DSERV)"
   ]
  },
  {
   "cell_type": "code",
   "execution_count": 263,
   "id": "c6e65053",
   "metadata": {},
   "outputs": [
    {
     "data": {
      "text/plain": [
       "10"
      ]
     },
     "execution_count": 263,
     "metadata": {},
     "output_type": "execute_result"
    }
   ],
   "source": [
    "len(DELIV)"
   ]
  },
  {
   "cell_type": "code",
   "execution_count": 231,
   "id": "c898e4c2",
   "metadata": {},
   "outputs": [
    {
     "data": {
      "text/plain": [
       "Index(['Centro_DELIV', 'Conductor_DELIV', 'Cantidad_entrega_DELIV',\n",
       "       'Fecha_inicio_real_DELIV', 'Hora_inicio_real_DELIV',\n",
       "       'Nombre_de_la_Obra_DELIV', 'Documento_de_Venta_DELIV',\n",
       "       'Placa_Vehículo_1_DELIV', 'Carga_DELIV',\n",
       "       'In-Plant_Hour_of_Delivery_DELIV', 'In-Plant_Hour_of_Delivery.1_DELIV',\n",
       "       'Estatus_DELIV', 'Obra_DELIV', 'Entrega_DELIV', 'Nombre_1_DELIV',\n",
       "       'Fecha_de_entrega_DELIV', 'In_Site_Date_DELIV', 'In_Site_Hr_DELIV',\n",
       "       'Unld_Initial_Date_DELIV', 'Unld_Initial_Hr_DELIV',\n",
       "       'Unld_Final_Date_DELIV', 'Unld_Final_Hr_DELIV',\n",
       "       'Date_of_Assigned_Delivery_DELIV', 'Hour_of_Assigned_Delivery_DELIV',\n",
       "       'Texto_breve_de_material_DELIV', 'Producto_Comercial_DELIV',\n",
       "       'Orden_de_Producción_DELIV', 'Fecha_de_documento_DELIV',\n",
       "       'Fecha_de_entrega.1_DELIV', 'Cliente_DELIV', 'Ticket_DELIV',\n",
       "       'Fecha_de_carga_DELIV', 'Hora_de_entrega_DELIV',\n",
       "       'Fecha_real_de_fin_de_la_orden_DELIV', 'Fin_real_(hora)_DELIV',\n",
       "       'Tiempo_de_trayecto_DELIV', 'T._Validación_mezcla_(mins)_DELIV',\n",
       "       'Distancia_DELIV', 'Ciclo_Real_DELIV', 'Ciclo_Teórico_DELIV',\n",
       "       'Nombre_del_Frente_DELIV', 'Cycle_Time_DELIV', 'Fecha_TJST_DELIV',\n",
       "       'Hora_TJST_DELIV', 'Fecha_TOPL_DELIV', 'Hora_TOPL_DELIV',\n",
       "       'Hora_de_carga_DELIV', 'Motivo_de_Pedido_DELIV'],\n",
       "      dtype='object')"
      ]
     },
     "execution_count": 231,
     "metadata": {},
     "output_type": "execute_result"
    }
   ],
   "source": [
    "DELIV.columns"
   ]
  },
  {
   "cell_type": "code",
   "execution_count": 232,
   "id": "13e9947e",
   "metadata": {},
   "outputs": [
    {
     "data": {
      "text/plain": [
       "Index(['Entrega_DSERV', 'In_Site_Date_DSERV', 'In_Site_Hr_DSERV',\n",
       "       'Unld_Initial_Date_DSERV', 'Unld_Initial_Hr_DSERV',\n",
       "       'Unld_Final_Date_DSERV', 'Unld_Final_Hr_DSERV',\n",
       "       'In-Plant_Hour_of_Delivery_DSERV', 'In-Plant_Hour_of_Delivery.1_DSERV',\n",
       "       'Clase_de_documento_DSERV', 'Orden_de_Venta_DSERV',\n",
       "       'Fecha_de_entrega_DSERV', 'Hora_de_entrega_DSERV',\n",
       "       'Fecha_de_carga_DSERV', 'Hora_de_carga_DSERV',\n",
       "       'Fecha_inicio_real_DSERV', 'Hora_inicio_real_DSERV',\n",
       "       'Fecha_real_de_fin_de_la_orden_DSERV', 'Fin_real_(hora)_DSERV',\n",
       "       'No._Fab._DSERV', 'Tiempo_Fabricación_DSERV', 'Fecha_factura_DSERV',\n",
       "       'Nombre_1_DSERV', 'Nombre_Canal_DSERV', 'Nombre_Subcanal_DSERV',\n",
       "       'Nombre_Especialidad_DSERV', 'Offline_DSERV',\n",
       "       'Fabricación_en_Línea_DSERV', 'Elemento_a_Colar_DSERV',\n",
       "       'Nombre_Vicepresidencia_DSERV', 'Fecha_de_documento_DSERV',\n",
       "       'Pedido_cliente_DSERV', 'Nombre_Vendedor_DSERV'],\n",
       "      dtype='object')"
      ]
     },
     "execution_count": 232,
     "metadata": {},
     "output_type": "execute_result"
    }
   ],
   "source": [
    "DSERV.columns"
   ]
  },
  {
   "cell_type": "code",
   "execution_count": 225,
   "id": "25844727",
   "metadata": {},
   "outputs": [
    {
     "data": {
      "text/plain": [
       "210010"
      ]
     },
     "execution_count": 225,
     "metadata": {},
     "output_type": "execute_result"
    }
   ],
   "source": [
    "len(DELIV)"
   ]
  },
  {
   "cell_type": "code",
   "execution_count": 226,
   "id": "83dabf34",
   "metadata": {},
   "outputs": [
    {
     "data": {
      "text/plain": [
       "303190"
      ]
     },
     "execution_count": 226,
     "metadata": {},
     "output_type": "execute_result"
    }
   ],
   "source": [
    "len(DSERV)"
   ]
  },
  {
   "cell_type": "code",
   "execution_count": 227,
   "id": "e5716124",
   "metadata": {},
   "outputs": [
    {
     "data": {
      "text/plain": [
       "3443"
      ]
     },
     "execution_count": 227,
     "metadata": {},
     "output_type": "execute_result"
    }
   ],
   "source": [
    "len(CALL)"
   ]
  },
  {
   "cell_type": "code",
   "execution_count": 228,
   "id": "f5b52bf0",
   "metadata": {},
   "outputs": [
    {
     "data": {
      "text/plain": [
       "3401"
      ]
     },
     "execution_count": 228,
     "metadata": {},
     "output_type": "execute_result"
    }
   ],
   "source": [
    "len(EMP)"
   ]
  },
  {
   "cell_type": "code",
   "execution_count": 229,
   "id": "f45074af",
   "metadata": {},
   "outputs": [
    {
     "data": {
      "text/plain": [
       "590580"
      ]
     },
     "execution_count": 229,
     "metadata": {},
     "output_type": "execute_result"
    }
   ],
   "source": [
    "len(Data)"
   ]
  },
  {
   "cell_type": "code",
   "execution_count": 211,
   "id": "fa25e201",
   "metadata": {},
   "outputs": [
    {
     "data": {
      "text/plain": [
       "0        NaN\n",
       "1        NaN\n",
       "2        NaN\n",
       "3        NaN\n",
       "4        NaN\n",
       "          ..\n",
       "590575   NaN\n",
       "590576   NaN\n",
       "590577   NaN\n",
       "590578   NaN\n",
       "590579   NaN\n",
       "Name: Pedido._CALL, Length: 590580, dtype: float64"
      ]
     },
     "execution_count": 211,
     "metadata": {},
     "output_type": "execute_result"
    }
   ],
   "source": [
    "Data[\"Pedido._CALL\"]"
   ]
  },
  {
   "cell_type": "code",
   "execution_count": 198,
   "id": "3cd20f9a",
   "metadata": {},
   "outputs": [
    {
     "data": {
      "text/plain": [
       "Index(['Centro_DELIV', 'Conductor_DELIV', 'Cantidad_entrega_DELIV',\n",
       "       'Fecha_inicio_real_DELIV', 'Hora_inicio_real_DELIV',\n",
       "       'Nombre_de_la_Obra_DELIV', 'Documento_de_Venta_DELIV',\n",
       "       'Placa_Vehículo_1_DELIV', 'Carga_DELIV',\n",
       "       'In-Plant_Hour_of_Delivery_DELIV', 'In-Plant_Hour_of_Delivery.1_DELIV',\n",
       "       'Estatus_DELIV', 'Obra_DELIV', 'Entrega_DELIV', 'Nombre_1_DELIV',\n",
       "       'Fecha_de_entrega_DELIV', 'In_Site_Date_DELIV', 'In_Site_Hr_DELIV',\n",
       "       'Unld_Initial_Date_DELIV', 'Unld_Initial_Hr_DELIV',\n",
       "       'Unld_Final_Date_DELIV', 'Unld_Final_Hr_DELIV',\n",
       "       'Date_of_Assigned_Delivery_DELIV', 'Hour_of_Assigned_Delivery_DELIV',\n",
       "       'Texto_breve_de_material_DELIV', 'Producto_Comercial_DELIV',\n",
       "       'Orden_de_Producción_DELIV', 'Fecha_de_documento_DELIV',\n",
       "       'Fecha_de_entrega.1_DELIV', 'Cliente_DELIV', 'Ticket_DELIV',\n",
       "       'Fecha_de_carga_DELIV', 'Hora_de_entrega_DELIV',\n",
       "       'Fecha_real_de_fin_de_la_orden_DELIV', 'Fin_real_(hora)_DELIV',\n",
       "       'Tiempo_de_trayecto_DELIV', 'T._Validación_mezcla_(mins)_DELIV',\n",
       "       'Distancia_DELIV', 'Ciclo_Real_DELIV', 'Ciclo_Teórico_DELIV',\n",
       "       'Nombre_del_Frente_DELIV', 'Cycle_Time_DELIV', 'Fecha_TJST_DELIV',\n",
       "       'Hora_TJST_DELIV', 'Fecha_TOPL_DELIV', 'Hora_TOPL_DELIV',\n",
       "       'Hora_de_carga_DELIV', 'Motivo_de_Pedido_DELIV'],\n",
       "      dtype='object')"
      ]
     },
     "execution_count": 198,
     "metadata": {},
     "output_type": "execute_result"
    }
   ],
   "source": [
    "DELIV.columns"
   ]
  },
  {
   "cell_type": "code",
   "execution_count": null,
   "id": "2c51ad33",
   "metadata": {},
   "outputs": [],
   "source": []
  },
  {
   "cell_type": "code",
   "execution_count": null,
   "id": "d81b284c",
   "metadata": {},
   "outputs": [],
   "source": []
  },
  {
   "cell_type": "code",
   "execution_count": null,
   "id": "f36ee52d",
   "metadata": {},
   "outputs": [],
   "source": []
  },
  {
   "cell_type": "code",
   "execution_count": null,
   "id": "c133aa2b",
   "metadata": {},
   "outputs": [],
   "source": []
  },
  {
   "cell_type": "code",
   "execution_count": 14,
   "id": "b0490977",
   "metadata": {},
   "outputs": [],
   "source": [
    "SERV['Fecha_inicio_real_SERV'] = SERV['Fecha_inicio_real_SERV'].astype(str) + \" \" + SERV['Hora_inicio_real_SERV'].astype(str)\n",
    "SERV['In-Plant_Hour_of_Delivery_SERV'] = SERV['In-Plant_Hour_of_Delivery_SERV'].astype(str) + \" \" + SERV['In-Plant_Hour_of_Delivery.1_SERV'].astype(str)\n",
    "SERV['In_Site_Date_SERV'] = SERV['In_Site_Date_SERV'].astype(str) + \" \" + SERV['In_Site_Hr_SERV'].astype(str)\n",
    "SERV['Unld_Initial_Date_SERV'] = SERV['Unld_Initial_Date_SERV'].astype(str) + \" \" + SERV['Unld_Initial_Hr_SERV'].astype(str)\n",
    "SERV['Unld_Final_Date_SERV'] = SERV['Unld_Final_Date_SERV'].astype(str) + \" \" + SERV['Unld_Final_Hr_SERV'].astype(str)\n",
    "SERV['Date_of_Assigned_Delivery_SERV'] = SERV['Date_of_Assigned_Delivery_SERV'].astype(str) + \" \" + SERV['Hour_of_Assigned_Delivery_SERV'].astype(str)\n",
    "SERV['Fecha_de_entrega.1_SERV'] = SERV['Fecha_de_entrega.1_SERV'].astype(str) + \" \" + SERV['Hora_de_entrega_SERV'].astype(str)\n",
    "SERV['Fecha_real_de_fin_de_la_orden_SERV'] = SERV['Fecha_real_de_fin_de_la_orden_SERV'].astype(str) + \" \" + SERV['Fin_real_(hora)_SERV'].astype(str)\n",
    "SERV['Fecha_TJST_SERV'] = SERV['Fecha_TJST_SERV'].astype(str) + \" \" + SERV['Hora_TJST_SERV'].astype(str)\n",
    "SERV['Fecha_TOPL_SERV'] = SERV['Fecha_TOPL_SERV'].astype(str) + \" \" + SERV['Hora_TOPL_SERV'].astype(str)\n",
    "SERV['Fecha_de_carga_SERV'] = SERV['Fecha_de_carga_SERV'].astype(str) + \" \" + SERV['Hora_de_carga_SERV'].astype(str)"
   ]
  },
  {
   "cell_type": "code",
   "execution_count": 15,
   "id": "57e2580f",
   "metadata": {},
   "outputs": [],
   "source": [
    "SERV = SERV.drop(['Hora_inicio_real_SERV','In-Plant_Hour_of_Delivery.1_SERV','In_Site_Hr_SERV','Unld_Initial_Hr_SERV','Unld_Final_Hr_SERV','Hour_of_Assigned_Delivery_SERV','Hora_de_entrega_SERV','Fin_real_(hora)_SERV','Hora_TJST_SERV','Hora_TOPL_SERV','Hora_de_carga_SERV'], axis=1)"
   ]
  },
  {
   "cell_type": "code",
   "execution_count": null,
   "id": "ae6d7cdf",
   "metadata": {},
   "outputs": [],
   "source": []
  },
  {
   "cell_type": "code",
   "execution_count": null,
   "id": "91f5ecff",
   "metadata": {},
   "outputs": [],
   "source": []
  },
  {
   "cell_type": "code",
   "execution_count": null,
   "id": "156117db",
   "metadata": {},
   "outputs": [],
   "source": []
  },
  {
   "cell_type": "code",
   "execution_count": null,
   "id": "2d592d09",
   "metadata": {},
   "outputs": [],
   "source": []
  },
  {
   "cell_type": "code",
   "execution_count": null,
   "id": "bb6518b9",
   "metadata": {},
   "outputs": [],
   "source": []
  }
 ],
 "metadata": {
  "kernelspec": {
   "display_name": "Python 3",
   "language": "python",
   "name": "python3"
  },
  "language_info": {
   "codemirror_mode": {
    "name": "ipython",
    "version": 3
   },
   "file_extension": ".py",
   "mimetype": "text/x-python",
   "name": "python",
   "nbconvert_exporter": "python",
   "pygments_lexer": "ipython3",
   "version": "3.8.8"
  }
 },
 "nbformat": 4,
 "nbformat_minor": 5
}
